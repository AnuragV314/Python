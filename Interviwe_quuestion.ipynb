{
 "cells": [
  {
   "attachments": {},
   "cell_type": "markdown",
   "metadata": {},
   "source": [
    "> Anurag Verma"
   ]
  },
  {
   "attachments": {},
   "cell_type": "markdown",
   "metadata": {},
   "source": [
    "<b>Python String Coding Interview Questions In Simple Way</b>"
   ]
  },
  {
   "cell_type": "markdown",
   "metadata": {},
   "source": [
    "**Question 1**\n",
    "\n",
    "*`Python Question:` that Eating My Brain!*\n",
    "\n",
    "```python\n",
    "x = ['a', 'b', 'c', 'd']\n",
    "for x[-1] in x:\n",
    "    print(x[-1], end='')\n",
    "```\n",
    "*What is the output?*\n",
    "* `a.` dddd\n",
    "* `b` abcd\n",
    "* `c.` abcc\n",
    "* `d.` None of these\n"
   ]
  },
  {
   "cell_type": "code",
   "execution_count": 2,
   "metadata": {},
   "outputs": [
    {
     "name": "stdout",
     "output_type": "stream",
     "text": [
      "abcc"
     ]
    }
   ],
   "source": [
    "x = ['a', 'b', 'c', 'd']\n",
    "for x[-1] in x:\n",
    "    print(x[-1], end='')"
   ]
  },
  {
   "cell_type": "code",
   "execution_count": 6,
   "metadata": {},
   "outputs": [
    {
     "name": "stdout",
     "output_type": "stream",
     "text": [
      "abcd"
     ]
    }
   ],
   "source": [
    "x = ['a', 'b', 'c', 'd']\n",
    "for x1 in x:\n",
    "    print(x1, end='')"
   ]
  },
  {
   "cell_type": "code",
   "execution_count": 31,
   "metadata": {},
   "outputs": [
    {
     "name": "stdout",
     "output_type": "stream",
     "text": [
      "a ['a', 'b', 'c', 'a']\n",
      "b ['a', 'b', 'c', 'b']\n",
      "c ['a', 'b', 'c', 'c']\n",
      "c ['a', 'b', 'c', 'c']\n"
     ]
    }
   ],
   "source": [
    "x = ['a', 'b', 'c', 'd']\n",
    "for x[-1] in x:\n",
    "    print(x[-1], x)"
   ]
  },
  {
   "cell_type": "code",
   "execution_count": 9,
   "metadata": {},
   "outputs": [
    {
     "name": "stdout",
     "output_type": "stream",
     "text": [
      "a\n"
     ]
    }
   ],
   "source": [
    "x[-1] = 'a'\n",
    "# print(x)\n",
    "print(x[-1])"
   ]
  },
  {
   "cell_type": "code",
   "execution_count": 18,
   "metadata": {},
   "outputs": [
    {
     "name": "stdout",
     "output_type": "stream",
     "text": [
      "abcc"
     ]
    }
   ],
   "source": [
    "x = ['a', 'b', 'c', 'd']\n",
    "for x1 in x:\n",
    "    x[-1]=x1\n",
    "    print(x[-1], end='')"
   ]
  },
  {
   "cell_type": "code",
   "execution_count": 12,
   "metadata": {},
   "outputs": [
    {
     "name": "stdout",
     "output_type": "stream",
     "text": [
      "1233"
     ]
    }
   ],
   "source": [
    "# same question with different value\n",
    "a = [1, 2, 3, 4]\n",
    "for a[-1] in a:\n",
    "    print(a[-1], end='')"
   ]
  },
  {
   "cell_type": "code",
   "execution_count": 13,
   "metadata": {},
   "outputs": [
    {
     "name": "stdout",
     "output_type": "stream",
     "text": [
      "4444"
     ]
    }
   ],
   "source": [
    "# same question with different value\n",
    "a = [1, 2, 3, 4]\n",
    "for a[-2] in a:\n",
    "    print(a[-1], end='')"
   ]
  },
  {
   "cell_type": "code",
   "execution_count": 28,
   "metadata": {},
   "outputs": [
    {
     "name": "stdout",
     "output_type": "stream",
     "text": [
      "1224"
     ]
    }
   ],
   "source": [
    "# same question with different value\n",
    "a = [1, 2, 3, 4]\n",
    "for a[-2] in a:\n",
    "    print(a[-2], end='')"
   ]
  },
  {
   "cell_type": "code",
   "execution_count": 30,
   "metadata": {},
   "outputs": [
    {
     "name": "stdout",
     "output_type": "stream",
     "text": [
      "1 [1, 2, 1, 4]\n",
      "2 [1, 2, 2, 4]\n",
      "2 [1, 2, 2, 4]\n",
      "4 [1, 2, 4, 4]\n"
     ]
    }
   ],
   "source": [
    "a = [1, 2, 3, 4]\n",
    "for a[-2] in a:\n",
    "    print(a[-2], a)"
   ]
  },
  {
   "cell_type": "markdown",
   "metadata": {},
   "source": [
    "<br>"
   ]
  },
  {
   "cell_type": "markdown",
   "metadata": {},
   "source": [
    "**Question 2**\n",
    "\n",
    "`Write a Python program to reverse the given String?`"
   ]
  },
  {
   "cell_type": "markdown",
   "metadata": {},
   "source": [
    "**Method 1**"
   ]
  },
  {
   "cell_type": "code",
   "execution_count": 32,
   "metadata": {},
   "outputs": [
    {
     "name": "stdout",
     "output_type": "stream",
     "text": [
      "garunA\n"
     ]
    }
   ],
   "source": [
    "s = \"Anurag\"\n",
    "print(s[::-1])"
   ]
  },
  {
   "cell_type": "code",
   "execution_count": 1,
   "metadata": {},
   "outputs": [
    {
     "name": "stdout",
     "output_type": "stream",
     "text": [
      "garuna\n"
     ]
    }
   ],
   "source": [
    "s = input('Enter some string to reverse :')\n",
    "print(s[::-1])"
   ]
  },
  {
   "cell_type": "markdown",
   "metadata": {},
   "source": [
    "**Method 2**\n",
    "> using **reversed()** function"
   ]
  },
  {
   "cell_type": "code",
   "execution_count": 7,
   "metadata": {},
   "outputs": [
    {
     "name": "stdout",
     "output_type": "stream",
     "text": [
      "garuna"
     ]
    }
   ],
   "source": [
    "s = input('Enter some string to reverse :')\n",
    "r = reversed(s)\n",
    "# print(type(r))\n",
    "for ch in r:\n",
    "    print(ch, end='')"
   ]
  },
  {
   "cell_type": "code",
   "execution_count": 6,
   "metadata": {},
   "outputs": [
    {
     "name": "stdout",
     "output_type": "stream",
     "text": [
      "garuna\n"
     ]
    }
   ],
   "source": [
    "s = input('Enter some string to reverse :')\n",
    "r = reversed(s)\n",
    "rr = ''.join(r)\n",
    "print(rr)"
   ]
  },
  {
   "cell_type": "markdown",
   "metadata": {},
   "source": [
    "**Method 3**\n",
    "> using While Loop"
   ]
  },
  {
   "cell_type": "code",
   "execution_count": 9,
   "metadata": {},
   "outputs": [
    {
     "name": "stdout",
     "output_type": "stream",
     "text": [
      "garuna\n"
     ]
    }
   ],
   "source": [
    "s = 'anurag'\n",
    "output = ''\n",
    "i = len(s) - 1\n",
    "while i >= 0 :\n",
    "    output = output + s[i]\n",
    "    i = i-1\n",
    "print(output)    "
   ]
  },
  {
   "cell_type": "markdown",
   "metadata": {},
   "source": [
    "**Question 3**\n",
    "\n",
    "`Write a Python program to reverse the given String word by word ?`"
   ]
  },
  {
   "cell_type": "code",
   "execution_count": 14,
   "metadata": {},
   "outputs": [
    {
     "name": "stdout",
     "output_type": "stream",
     "text": [
      "easy very is python\n"
     ]
    }
   ],
   "source": [
    "s = input('Enter Some String: ')\n",
    "l=s.split()\n",
    "# print(l) \n",
    "l1 = l[::-1]\n",
    "output = ' '.join(l1)\n",
    "# print(l1)\n",
    "print(output)"
   ]
  },
  {
   "cell_type": "markdown",
   "metadata": {},
   "source": [
    "**Question 4** \n",
    "\n",
    "`WAP to REVERSE internal content of each word?`\n"
   ]
  },
  {
   "cell_type": "code",
   "execution_count": 22,
   "metadata": {},
   "outputs": [
    {
     "name": "stdout",
     "output_type": "stream",
     "text": [
      "nohtyP si yrev ysae\n"
     ]
    }
   ],
   "source": [
    "s = 'Python is very easy'\n",
    "l=s.split()\n",
    "l1 = []\n",
    "for w in l:\n",
    "    l1.append(w[::-1])\n",
    "output = ' '.join(l1)    \n",
    "print(output)"
   ]
  },
  {
   "cell_type": "code",
   "execution_count": 24,
   "metadata": {},
   "outputs": [
    {
     "name": "stdout",
     "output_type": "stream",
     "text": [
      "nohtyP si yrev ysae\n"
     ]
    }
   ],
   "source": [
    "s = 'Python is very easy'.split()\n",
    "l1 = []\n",
    "for w in s:\n",
    "    l1.append(w[::-1])\n",
    "output = ' '.join(l1)    \n",
    "print(output)"
   ]
  },
  {
   "cell_type": "markdown",
   "metadata": {},
   "source": [
    "**Question 5** \n",
    "\n",
    "`WAP to REVERSE internal content of every second word present in the given string?`"
   ]
  },
  {
   "cell_type": "code",
   "execution_count": 28,
   "metadata": {},
   "outputs": [
    {
     "name": "stdout",
     "output_type": "stream",
     "text": [
      "one owt three ruof five xis seven\n"
     ]
    }
   ],
   "source": [
    "s = 'one two three four five six seven'\n",
    "l = s.split()\n",
    "l1 = []\n",
    "for w in range(len(l)):\n",
    "    if w%2==0:\n",
    "        l1.append(l[w])\n",
    "    else:\n",
    "        l1.append(l[w][::-1])\n",
    "# print(l1)  \n",
    "output = ' '.join(l1)  \n",
    "print(output)"
   ]
  },
  {
   "cell_type": "code",
   "execution_count": 30,
   "metadata": {},
   "outputs": [
    {
     "name": "stdout",
     "output_type": "stream",
     "text": [
      "one owt three ruof five xis seven\n"
     ]
    }
   ],
   "source": [
    "s = 'one two three four five six seven'\n",
    "l = s.split()\n",
    "l1 = []\n",
    "i = 0\n",
    "while i < len(l):\n",
    "    if i%2==0:\n",
    "        l1.append(l[i])\n",
    "    else:\n",
    "        l1.append(l[i][::-1])\n",
    "    i = i + 1    \n",
    "output = ' '.join(l1)  \n",
    "print(output)"
   ]
  },
  {
   "attachments": {},
   "cell_type": "markdown",
   "metadata": {},
   "source": [
    "**Question 6** \n",
    "\n",
    "`WAP to print the characters present at even index and odd index seperately for the given string?`"
   ]
  },
  {
   "attachments": {},
   "cell_type": "markdown",
   "metadata": {},
   "source": [
    "**Method 1**"
   ]
  },
  {
   "cell_type": "code",
   "execution_count": 45,
   "metadata": {},
   "outputs": [
    {
     "name": "stdout",
     "output_type": "stream",
     "text": [
      "Character present at even index: \n",
      "A\n",
      "u\n",
      "a\n",
      "K\n",
      "m\n",
      "r\n",
      "e\n",
      "m\n",
      "Character present at odd index: \n",
      "n\n",
      "r\n",
      "g\n",
      "u\n",
      "a\n",
      "V\n",
      "r\n",
      "a\n"
     ]
    }
   ],
   "source": [
    "s = 'AnuragKumarVerma'\n",
    "print('Character present at even index: ')\n",
    "for i in range(len(s)):\n",
    "    if i%2 == 0:\n",
    "        print(s[i])\n",
    "\n",
    "print('Character present at odd index: ')\n",
    "for i in range(len(s)):\n",
    "    if i%2 != 0:\n",
    "        print(s[i])\n",
    "       "
   ]
  },
  {
   "attachments": {},
   "cell_type": "markdown",
   "metadata": {},
   "source": [
    "**Method 2**"
   ]
  },
  {
   "cell_type": "code",
   "execution_count": 46,
   "metadata": {},
   "outputs": [
    {
     "name": "stdout",
     "output_type": "stream",
     "text": [
      "Character present at even index: \n",
      "A\n",
      "u\n",
      "a\n",
      "K\n",
      "m\n",
      "r\n",
      "e\n",
      "m\n",
      "Character present at odd index: \n",
      "n\n",
      "r\n",
      "g\n",
      "u\n",
      "a\n",
      "V\n",
      "r\n",
      "a\n"
     ]
    }
   ],
   "source": [
    "s = 'AnuragKumarVerma'\n",
    "\n",
    "print('Character present at even index: ')\n",
    "i = 0\n",
    "while i<len(s):\n",
    "    print(s[i])\n",
    "    i=i+2\n",
    "\n",
    "print('Character present at odd index: ')\n",
    "i = 1\n",
    "while i<len(s):\n",
    "    print(s[i])\n",
    "    i=i+2"
   ]
  },
  {
   "attachments": {},
   "cell_type": "markdown",
   "metadata": {},
   "source": [
    "**Method 3**"
   ]
  },
  {
   "cell_type": "code",
   "execution_count": 48,
   "metadata": {},
   "outputs": [
    {
     "name": "stdout",
     "output_type": "stream",
     "text": [
      "Character present at even index:  AuaKmrem\n",
      "Character present at even index:  AuaKmrem\n",
      "Character present at odd index:  nrguaVra\n"
     ]
    }
   ],
   "source": [
    "s = 'AnuragKumarVerma'\n",
    "print('Character present at even index: ', s[0::2])\n",
    "print('Character present at even index: ', s[::2])\n",
    "print('Character present at odd index: ',s[1::2])"
   ]
  },
  {
   "attachments": {},
   "cell_type": "markdown",
   "metadata": {},
   "source": [
    "**Question 7** \n",
    "\n",
    "`WAP to sort characters of the string, first alphabet symbols followed by digits?`\n",
    "\n",
    "*input:* B4A1D3 <br>\n",
    "*output:* ABD134"
   ]
  },
  {
   "cell_type": "code",
   "execution_count": 69,
   "metadata": {},
   "outputs": [
    {
     "name": "stdout",
     "output_type": "stream",
     "text": [
      "['1', '3', '4', 'A', 'B', 'D']\n"
     ]
    }
   ],
   "source": [
    "s = 'B4A1D3'\n",
    "print(sorted(s))"
   ]
  },
  {
   "attachments": {},
   "cell_type": "markdown",
   "metadata": {},
   "source": [
    "**Method 1**"
   ]
  },
  {
   "cell_type": "code",
   "execution_count": 54,
   "metadata": {},
   "outputs": [
    {
     "name": "stdout",
     "output_type": "stream",
     "text": [
      "ABD134\n"
     ]
    }
   ],
   "source": [
    "s = 'B4A1D3'\n",
    "alphabet = []\n",
    "digit = []\n",
    "\n",
    "for ch in s:\n",
    "    if ch.isalpha():\n",
    "        alphabet.append(ch)\n",
    "    else:\n",
    "        digit.append(ch)\n",
    "\n",
    "output = ''.join(sorted(alphabet)+sorted(digit))\n",
    "print(output)"
   ]
  },
  {
   "attachments": {},
   "cell_type": "markdown",
   "metadata": {},
   "source": [
    "**Method 2**"
   ]
  },
  {
   "cell_type": "code",
   "execution_count": 56,
   "metadata": {},
   "outputs": [
    {
     "name": "stdout",
     "output_type": "stream",
     "text": [
      "ABD134\n"
     ]
    }
   ],
   "source": [
    "s = 'B4A1D3'\n",
    "alphabet = []\n",
    "digit = []\n",
    "\n",
    "for ch in s:\n",
    "    if ch.isalpha():\n",
    "        alphabet.append(ch)\n",
    "    else:\n",
    "        digit.append(ch)\n",
    "\n",
    "output = ''\n",
    "for ch in sorted(alphabet):\n",
    "    output += ch\n",
    "for ch in sorted(digit):\n",
    "    output += ch    \n",
    "\n",
    "print(output)"
   ]
  },
  {
   "attachments": {},
   "cell_type": "markdown",
   "metadata": {},
   "source": [
    "**Question 8** \n",
    "\n",
    "`WAP to for the following requirement?`\n",
    "\n",
    "*input:* a4b3c2 <br>\n",
    "*output:* aaaabbbcc"
   ]
  },
  {
   "cell_type": "code",
   "execution_count": 72,
   "metadata": {},
   "outputs": [
    {
     "name": "stdout",
     "output_type": "stream",
     "text": [
      "aaaabbbcc\n"
     ]
    }
   ],
   "source": [
    "s = 'a4b3c2'\n",
    "output = ''\n",
    "for ch in s:\n",
    "    if ch.isalpha():\n",
    "        x = ch\n",
    "    else:\n",
    "        d = int(ch)   \n",
    "        output = output+x*d\n",
    "print(output)         "
   ]
  },
  {
   "attachments": {},
   "cell_type": "markdown",
   "metadata": {},
   "source": [
    "**Question 9** \n",
    "\n",
    "`WAP to for the following requirement?`\n",
    "\n",
    "*input:* a3z2b4 <br>\n",
    "*output:* aaabbbbzz (Sorted String)"
   ]
  },
  {
   "cell_type": "code",
   "execution_count": 78,
   "metadata": {},
   "outputs": [
    {
     "name": "stdout",
     "output_type": "stream",
     "text": [
      "aaabbbbzz\n"
     ]
    }
   ],
   "source": [
    "s = 'a3z2b4'\n",
    "target = ''\n",
    "for ch in s:\n",
    "    if ch.isalpha():\n",
    "        x = ch\n",
    "    else:\n",
    "        d = int(ch)\n",
    "        target = target + x*d    \n",
    "output = ''.join(sorted(target))\n",
    "print(output)"
   ]
  },
  {
   "attachments": {},
   "cell_type": "markdown",
   "metadata": {},
   "source": [
    "**Question 10** \n",
    "\n",
    "`WAP to for the following requirement?`\n",
    "\n",
    "*input:* aaaabbbccz<br>\n",
    "*output:* 4a3b2c1z "
   ]
  },
  {
   "cell_type": "code",
   "execution_count": 46,
   "metadata": {},
   "outputs": [
    {
     "name": "stdout",
     "output_type": "stream",
     "text": [
      "4a3b2c\n"
     ]
    }
   ],
   "source": [
    "s = 'aaaabbbccz' \n",
    "previous = s[0]\n",
    "output = ''\n",
    "c = 1\n",
    "i = 1\n",
    "\n",
    "while i < len(s):\n",
    "    if previous == s[i]:\n",
    "        c = c + 1\n",
    "        \n",
    "    else:\n",
    "         \n",
    "        output = output + str(c) + previous\n",
    "        previous = s[i]\n",
    "        # print(previous)\n",
    "        c = 1  \n",
    "    i = i+1    \n",
    "\n",
    "print(output)  #4a3b2c"
   ]
  },
  {
   "cell_type": "code",
   "execution_count": 48,
   "metadata": {},
   "outputs": [
    {
     "name": "stdout",
     "output_type": "stream",
     "text": [
      "4a3b2c3z\n"
     ]
    }
   ],
   "source": [
    "s = 'aaaabbbcczzz'\n",
    "previous = s[0]\n",
    "output = ''\n",
    "c = 1\n",
    "i = 1\n",
    "\n",
    "while i < len(s):\n",
    "    if s[i] == previous:\n",
    "        c = c + 1\n",
    "        \n",
    "    else:\n",
    "         \n",
    "        output = output + str(c) + previous\n",
    "        previous = s[i]\n",
    "        c = 1  \n",
    "\n",
    "    if i == len(s)-1:\n",
    "        output = output + str(c) + previous\n",
    "\n",
    "    i = i+1    \n",
    "\n",
    "print(output)"
   ]
  },
  {
   "attachments": {},
   "cell_type": "markdown",
   "metadata": {},
   "source": [
    "**Question 11** \n",
    "\n",
    "`WAP to for the following requirement?`\n",
    "\n",
    "*input:* a4k3b2<br>\n",
    "*output:* aeknbd\n",
    "\n",
    "In this example the following tow functions are required to use\n",
    "1. `ord()` : To find unicode value for the given character<br>\n",
    "    eg: <code>print(ord('a'))</code> #97\n",
    "\n",
    "2. `chr()` : To find corresponding character for the given unicode value <br>\n",
    "    eg:`print(chr(97))` #'a'"
   ]
  },
  {
   "cell_type": "code",
   "execution_count": 53,
   "metadata": {},
   "outputs": [
    {
     "name": "stdout",
     "output_type": "stream",
     "text": [
      "aeknbd\n"
     ]
    }
   ],
   "source": [
    "s = 'a4k3b2'\n",
    "output = ''\n",
    "for ch in s:\n",
    "    if ch.isalpha():\n",
    "        output = output + ch\n",
    "        x = ch\n",
    "    else:\n",
    "        d = int(ch)\n",
    "        newc = chr((ord(x)+d))  \n",
    "        output = output + newc\n",
    "\n",
    "print(output)"
   ]
  },
  {
   "attachments": {},
   "cell_type": "markdown",
   "metadata": {},
   "source": [
    "**Question 12** \n",
    "\n",
    "`WAP to for the following requirement?`\n",
    "\n",
    "*input:* AZZZBCDABBCDABBBBCCCCDDDDEEEEEFF<br>\n",
    "*output:* AZBCDEF"
   ]
  },
  {
   "attachments": {},
   "cell_type": "markdown",
   "metadata": {},
   "source": [
    "**Method 1**"
   ]
  },
  {
   "cell_type": "code",
   "execution_count": 74,
   "metadata": {},
   "outputs": [
    {
     "name": "stdout",
     "output_type": "stream",
     "text": [
      "AZBCDEF\n"
     ]
    }
   ],
   "source": [
    "s = 'AZZZBCDABBCDABBBBCCCCDDDDEEEEEFF'\n",
    "output =''\n",
    "\n",
    "for ch in s:\n",
    "    if ch not in output:\n",
    "        output=output+ch\n",
    "print(output)        "
   ]
  },
  {
   "attachments": {},
   "cell_type": "markdown",
   "metadata": {},
   "source": [
    "**Method 2**"
   ]
  },
  {
   "cell_type": "code",
   "execution_count": 76,
   "metadata": {},
   "outputs": [
    {
     "name": "stdout",
     "output_type": "stream",
     "text": [
      "AZBCDEF\n"
     ]
    }
   ],
   "source": [
    "s = 'AZZZBCDABBCDABBBBCCCCDDDDEEEEEFF'\n",
    "l = []\n",
    "for ch in s:\n",
    "    if ch not in l:\n",
    "        l.append(ch)\n",
    "\n",
    "output = ''.join(l)        \n",
    "print(output)  "
   ]
  },
  {
   "attachments": {},
   "cell_type": "markdown",
   "metadata": {},
   "source": [
    "**Method 3**\n",
    "\n",
    "using `set()` function (but no guarantee for the order)"
   ]
  },
  {
   "cell_type": "code",
   "execution_count": 77,
   "metadata": {},
   "outputs": [
    {
     "name": "stdout",
     "output_type": "stream",
     "text": [
      "ZDCABEF\n"
     ]
    }
   ],
   "source": [
    "s = 'AZZZBCDABBCDABBBBCCCCDDDDEEEEEFF'\n",
    "s1 = set(s)\n",
    "output=''.join(s1)\n",
    "print(output)"
   ]
  },
  {
   "attachments": {},
   "cell_type": "markdown",
   "metadata": {},
   "source": [
    "**Question 13** \n",
    "\n",
    "`WAP to find the number of occurrences of each character present in the given string with` <b> count() </b> `method?`\n",
    "\n",
    "*input:* AZZZBCDABBCDABBBBCCCCDDDDEEEEEFF<br>\n",
    "*output:*  <ul> \n",
    "            A accurrs 4 times <br>\n",
    "            B accurrs 7 times <br>\n",
    "            C accurrs 6 times <br>\n",
    "            D accurrs 6 times <br>\n",
    "            E accurrs 5 times <br>\n",
    "            F accurrs 2 times <br>\n",
    "            Z accurrs 3 times <br></ul> "
   ]
  },
  {
   "attachments": {},
   "cell_type": "markdown",
   "metadata": {},
   "source": [
    "**Method 1**"
   ]
  },
  {
   "cell_type": "code",
   "execution_count": 91,
   "metadata": {},
   "outputs": [
    {
     "name": "stdout",
     "output_type": "stream",
     "text": [
      "['A', 'Z', 'B', 'C', 'D', 'E', 'F']\n",
      "A accurrs 4 times\n",
      "B accurrs 7 times\n",
      "C accurrs 6 times\n",
      "D accurrs 6 times\n",
      "E accurrs 5 times\n",
      "F accurrs 2 times\n",
      "Z accurrs 3 times\n"
     ]
    }
   ],
   "source": [
    "s = 'AAZZZBCDABBCDABBBBCCCCDDDDEEEEEFF'\n",
    "l = []\n",
    "\n",
    "for ch in s:\n",
    "    if ch not in l:\n",
    "        l.append(ch)\n",
    "# print(l)    \n",
    "\n",
    "for ch in sorted(l):\n",
    "    print('{} accurrs {} times'.format(ch, s.count(ch)))"
   ]
  },
  {
   "attachments": {},
   "cell_type": "markdown",
   "metadata": {},
   "source": [
    "**Method 2**"
   ]
  },
  {
   "cell_type": "code",
   "execution_count": 1,
   "metadata": {},
   "outputs": [
    {
     "name": "stdout",
     "output_type": "stream",
     "text": [
      "A accurrs 4 times\n",
      "B accurrs 7 times\n",
      "C accurrs 6 times\n",
      "D accurrs 6 times\n",
      "E accurrs 5 times\n",
      "F accurrs 2 times\n",
      "Z accurrs 3 times\n"
     ]
    }
   ],
   "source": [
    "s = 'AAZZZBCDABBCDABBBBCCCCDDDDEEEEEFF'\n",
    "l = set(s)\n",
    "# print(l)\n",
    "for ch in sorted(l):\n",
    "    print('{} accurrs {} times'.format(ch, s.count(ch)))"
   ]
  },
  {
   "attachments": {},
   "cell_type": "markdown",
   "metadata": {},
   "source": [
    "**Method 3**\n",
    "\n",
    "without using `count()` function"
   ]
  },
  {
   "cell_type": "code",
   "execution_count": 52,
   "metadata": {},
   "outputs": [
    {
     "name": "stdout",
     "output_type": "stream",
     "text": [
      "A occurrs 4 times\n",
      "Z occurrs 3 times\n",
      "B occurrs 7 times\n",
      "C occurrs 6 times\n",
      "D occurrs 6 times\n",
      "E occurrs 5 times\n",
      "F occurrs 2 times\n",
      "\n",
      "A occurrs 4 times\n",
      "B occurrs 7 times\n",
      "C occurrs 6 times\n",
      "D occurrs 6 times\n",
      "E occurrs 5 times\n",
      "F occurrs 2 times\n",
      "Z occurrs 3 times\n"
     ]
    }
   ],
   "source": [
    "s = 'AAZZZBCDABBCDABBBBCCCCDDDDEEEEEFF'\n",
    "d = {}\n",
    "for ch in s:\n",
    "    d[ch] = d.get(ch, 0) + 1\n",
    "# print(d)\n",
    "\n",
    "for k, v in d.items():\n",
    "    print(f'{k} occurrs {v} times')  \n",
    "\n",
    "print('')    \n",
    "# For soring purpose\n",
    "for k, v in sorted(d.items()):\n",
    "    print(f'{k} occurrs {v} times')\n"
   ]
  },
  {
   "attachments": {},
   "cell_type": "markdown",
   "metadata": {},
   "source": [
    "**Question 14** \n",
    "\n",
    "`WAP for the following requirement`\n",
    "\n",
    "*input:* ABAABBCA <br>\n",
    "*output:* 4A3B1C"
   ]
  },
  {
   "cell_type": "code",
   "execution_count": 37,
   "metadata": {},
   "outputs": [
    {
     "name": "stdout",
     "output_type": "stream",
     "text": [
      "4A3B1C\n"
     ]
    }
   ],
   "source": [
    "s = 'ABAABBCA'\n",
    "output = ''\n",
    "d = {}\n",
    "\n",
    "for ch in s:\n",
    "    d[ch] = d.get(ch, 0) + 1\n",
    "# print(d)\n",
    "\n",
    "for k,v in sorted(d.items()):\n",
    "    output = output + str(v) + k\n",
    "\n",
    "print(output)"
   ]
  },
  {
   "attachments": {},
   "cell_type": "markdown",
   "metadata": {},
   "source": [
    "**Question 15** \n",
    "\n",
    "`WAP for the following requirement`\n",
    "\n",
    "*input:* ABAABBCA <br>\n",
    "*output:* A4B3C1"
   ]
  },
  {
   "cell_type": "code",
   "execution_count": 39,
   "metadata": {},
   "outputs": [
    {
     "name": "stdout",
     "output_type": "stream",
     "text": [
      "A4B3C1\n"
     ]
    }
   ],
   "source": [
    "s = 'ABAABBCA'\n",
    "d = {}\n",
    "\n",
    "for ch in s:\n",
    "    d[ch] = d.get(ch, 0) + 1\n",
    "# print(d)    \n",
    "\n",
    "output = ''\n",
    "for k,v in sorted(d.items()):\n",
    "    output = output + k + str(v)\n",
    "\n",
    "print(output)"
   ]
  },
  {
   "attachments": {},
   "cell_type": "markdown",
   "metadata": {},
   "source": [
    "**Question 16** \n",
    "\n",
    "`WAP to find the number of occurrences of each vowel present in the given string?`"
   ]
  },
  {
   "cell_type": "code",
   "execution_count": 41,
   "metadata": {},
   "outputs": [
    {
     "name": "stdout",
     "output_type": "stream",
     "text": [
      "A occurrs 3 times\n",
      "E occurrs 2 times\n",
      "I occurrs 2 times\n",
      "O occurrs 3 times\n",
      "U occurrs 2 times\n",
      "a occurrs 2 times\n",
      "e occurrs 4 times\n",
      "i occurrs 3 times\n",
      "o occurrs 2 times\n"
     ]
    }
   ],
   "source": [
    "s = 'aaeeeeAAAiiiOOOUUIIooEE'\n",
    "v = ['a', 'e', 'i', 'o', 'u', 'A', 'E', 'I', 'O', 'U']\n",
    "\n",
    "d = {}\n",
    "for ch in s:\n",
    "    if ch in v:\n",
    "        d[ch] = d.get(ch, 0) + 1\n",
    "for k, v in sorted(d.items()):\n",
    "    print(f'{k} occurrs {v} times')        "
   ]
  },
  {
   "cell_type": "code",
   "execution_count": 42,
   "metadata": {},
   "outputs": [
    {
     "name": "stdout",
     "output_type": "stream",
     "text": [
      "['a', 'e', 'i', 'o', 'u', 'A', 'E', 'I', 'O', 'U']\n"
     ]
    }
   ],
   "source": [
    "s = 'aeiouAEIOU'\n",
    "l = list(s)\n",
    "print(l)"
   ]
  },
  {
   "attachments": {},
   "cell_type": "markdown",
   "metadata": {},
   "source": [
    "**Question 17** \n",
    "\n",
    "`WAP the given string is Anagrams or not?`\n",
    "\n",
    "<b>Anagrams :</b>  Two strings are said to be `anagrams` iff both are having same content irrespective of characters position.\n",
    "\n",
    "eg: `lazy` and `zaly`"
   ]
  },
  {
   "cell_type": "code",
   "execution_count": 44,
   "metadata": {},
   "outputs": [
    {
     "name": "stdout",
     "output_type": "stream",
     "text": [
      "The strings are Anagrams\n"
     ]
    }
   ],
   "source": [
    "s1 = input('Enter first string: ')\n",
    "s2 = input('Enter second string: ')\n",
    "\n",
    "if sorted(s1) == sorted(s2):\n",
    "    print('The strings are Anagrams')\n",
    "else:\n",
    "    print('The strings are not Anagrams')    "
   ]
  },
  {
   "attachments": {},
   "cell_type": "markdown",
   "metadata": {},
   "source": [
    "**Question 18** \n",
    "\n",
    "`WAP to check wether the given string is Palindrome or not?`\n",
    "\n",
    "<b>Palindrome :</b>  A string is said to be `Polindrome` iff original string and its reversed strings are equal.\n",
    "\n",
    "eg: `madam` , `level`, `eye`"
   ]
  },
  {
   "cell_type": "code",
   "execution_count": 45,
   "metadata": {},
   "outputs": [
    {
     "name": "stdout",
     "output_type": "stream",
     "text": [
      "The given string is Polindrome.\n"
     ]
    }
   ],
   "source": [
    "s = input('Enter a string: ')\n",
    "if s == s[::-1]:\n",
    "    print('The given string is Polindrome.')\n",
    "else:\n",
    "    print('The given string is not Polindrome.')\n",
    "        "
   ]
  },
  {
   "attachments": {},
   "cell_type": "markdown",
   "metadata": {},
   "source": [
    "**Question 19** \n",
    "\n",
    "`WAP for the following requirement:`\n",
    "\n",
    ">  *input:* \n",
    "* s1 = 'abcdefg'\n",
    "* s2 = 'xyz'\n",
    "* s3 = '12345'\n",
    "\n",
    "\n",
    "> *output:*  \n",
    "* ax1, by2, cz3, d4, e5, f, g\n"
   ]
  },
  {
   "cell_type": "code",
   "execution_count": 56,
   "metadata": {},
   "outputs": [
    {
     "name": "stdout",
     "output_type": "stream",
     "text": [
      "ax1 by2 cz3 d4 e5 f g "
     ]
    }
   ],
   "source": [
    "s1 = 'abcdefg'\n",
    "s2 = 'xyz'\n",
    "s3 = '12345'\n",
    "i = j = k = 0\n",
    "\n",
    "while i<len(s1) or j<len(s2) or k<len(s3):\n",
    "    output = ''\n",
    "    if i<len(s1):\n",
    "        output = output + s1[i]\n",
    "        i = i+1\n",
    "    if j<len(s2):\n",
    "        output = output + s2[j]\n",
    "        j = j+1\n",
    "    if k<len(s3):\n",
    "        output = output + s3[k]   \n",
    "        k = k+1   \n",
    "    print(output, end=' ')      \n"
   ]
  },
  {
   "cell_type": "code",
   "execution_count": null,
   "metadata": {},
   "outputs": [],
   "source": []
  }
 ],
 "metadata": {
  "kernelspec": {
   "display_name": "Python 3 (ipykernel)",
   "language": "python",
   "name": "python3"
  },
  "language_info": {
   "codemirror_mode": {
    "name": "ipython",
    "version": 3
   },
   "file_extension": ".py",
   "mimetype": "text/x-python",
   "name": "python",
   "nbconvert_exporter": "python",
   "pygments_lexer": "ipython3",
   "version": "3.10.6"
  },
  "vscode": {
   "interpreter": {
    "hash": "916dbcbb3f70747c44a77c7bcd40155683ae19c65e1c03b4aa3499c5328201f1"
   }
  }
 },
 "nbformat": 4,
 "nbformat_minor": 2
}
