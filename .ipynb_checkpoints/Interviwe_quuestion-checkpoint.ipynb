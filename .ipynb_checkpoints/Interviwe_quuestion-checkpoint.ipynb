{
 "cells": [
  {
   "cell_type": "markdown",
   "metadata": {},
   "source": [
    "> Anurag"
   ]
  },
  {
   "cell_type": "markdown",
   "metadata": {},
   "source": [
    "**Question 1**\n",
    "\n",
    "*`Python Question:` that Eating My Brain!*\n",
    "\n",
    "```python\n",
    "x = ['a', 'b', 'c', 'd']\n",
    "for x[-1] in x:\n",
    "    print(x[-1], end='')\n",
    "```\n",
    "*What is the output?*\n",
    "* `a.` dddd\n",
    "* `b` abcd\n",
    "* `c.` abcc\n",
    "* `d.` None of these\n"
   ]
  },
  {
   "cell_type": "code",
   "execution_count": 2,
   "metadata": {},
   "outputs": [
    {
     "name": "stdout",
     "output_type": "stream",
     "text": [
      "abcc"
     ]
    }
   ],
   "source": [
    "x = ['a', 'b', 'c', 'd']\n",
    "for x[-1] in x:\n",
    "    print(x[-1], end='')"
   ]
  },
  {
   "cell_type": "code",
   "execution_count": 6,
   "metadata": {},
   "outputs": [
    {
     "name": "stdout",
     "output_type": "stream",
     "text": [
      "abcd"
     ]
    }
   ],
   "source": [
    "x = ['a', 'b', 'c', 'd']\n",
    "for x1 in x:\n",
    "    print(x1, end='')"
   ]
  },
  {
   "cell_type": "code",
   "execution_count": 31,
   "metadata": {},
   "outputs": [
    {
     "name": "stdout",
     "output_type": "stream",
     "text": [
      "a ['a', 'b', 'c', 'a']\n",
      "b ['a', 'b', 'c', 'b']\n",
      "c ['a', 'b', 'c', 'c']\n",
      "c ['a', 'b', 'c', 'c']\n"
     ]
    }
   ],
   "source": [
    "x = ['a', 'b', 'c', 'd']\n",
    "for x[-1] in x:\n",
    "    print(x[-1], x)"
   ]
  },
  {
   "cell_type": "code",
   "execution_count": 9,
   "metadata": {},
   "outputs": [
    {
     "name": "stdout",
     "output_type": "stream",
     "text": [
      "a\n"
     ]
    }
   ],
   "source": [
    "x[-1] = 'a'\n",
    "# print(x)\n",
    "print(x[-1])"
   ]
  },
  {
   "cell_type": "code",
   "execution_count": 18,
   "metadata": {},
   "outputs": [
    {
     "name": "stdout",
     "output_type": "stream",
     "text": [
      "abcc"
     ]
    }
   ],
   "source": [
    "x = ['a', 'b', 'c', 'd']\n",
    "for x1 in x:\n",
    "    x[-1]=x1\n",
    "    print(x[-1], end='')"
   ]
  },
  {
   "cell_type": "code",
   "execution_count": 12,
   "metadata": {},
   "outputs": [
    {
     "name": "stdout",
     "output_type": "stream",
     "text": [
      "1233"
     ]
    }
   ],
   "source": [
    "# same question with different value\n",
    "a = [1, 2, 3, 4]\n",
    "for a[-1] in a:\n",
    "    print(a[-1], end='')"
   ]
  },
  {
   "cell_type": "code",
   "execution_count": 13,
   "metadata": {},
   "outputs": [
    {
     "name": "stdout",
     "output_type": "stream",
     "text": [
      "4444"
     ]
    }
   ],
   "source": [
    "# same question with different value\n",
    "a = [1, 2, 3, 4]\n",
    "for a[-2] in a:\n",
    "    print(a[-1], end='')"
   ]
  },
  {
   "cell_type": "code",
   "execution_count": 28,
   "metadata": {},
   "outputs": [
    {
     "name": "stdout",
     "output_type": "stream",
     "text": [
      "1224"
     ]
    }
   ],
   "source": [
    "# same question with different value\n",
    "a = [1, 2, 3, 4]\n",
    "for a[-2] in a:\n",
    "    print(a[-2], end='')"
   ]
  },
  {
   "cell_type": "code",
   "execution_count": 30,
   "metadata": {},
   "outputs": [
    {
     "name": "stdout",
     "output_type": "stream",
     "text": [
      "1 [1, 2, 1, 4]\n",
      "2 [1, 2, 2, 4]\n",
      "2 [1, 2, 2, 4]\n",
      "4 [1, 2, 4, 4]\n"
     ]
    }
   ],
   "source": [
    "a = [1, 2, 3, 4]\n",
    "for a[-2] in a:\n",
    "    print(a[-2], a)"
   ]
  },
  {
   "cell_type": "markdown",
   "metadata": {},
   "source": [
    "<br>"
   ]
  },
  {
   "cell_type": "markdown",
   "metadata": {},
   "source": [
    "**Question 2**\n",
    "\n",
    "`Write a Python program to reverse the given String?`"
   ]
  },
  {
   "cell_type": "markdown",
   "metadata": {},
   "source": [
    "**Method 1**"
   ]
  },
  {
   "cell_type": "code",
   "execution_count": 32,
   "metadata": {},
   "outputs": [
    {
     "name": "stdout",
     "output_type": "stream",
     "text": [
      "garunA\n"
     ]
    }
   ],
   "source": [
    "s = \"Anurag\"\n",
    "print(s[::-1])"
   ]
  },
  {
   "cell_type": "code",
   "execution_count": 1,
   "metadata": {},
   "outputs": [
    {
     "name": "stdout",
     "output_type": "stream",
     "text": [
      "garuna\n"
     ]
    }
   ],
   "source": [
    "s = input('Enter some string to reverse :')\n",
    "print(s[::-1])"
   ]
  },
  {
   "cell_type": "markdown",
   "metadata": {},
   "source": [
    "**Method 2**\n",
    "> using **reversed()** function"
   ]
  },
  {
   "cell_type": "code",
   "execution_count": 7,
   "metadata": {},
   "outputs": [
    {
     "name": "stdout",
     "output_type": "stream",
     "text": [
      "garuna"
     ]
    }
   ],
   "source": [
    "s = input('Enter some string to reverse :')\n",
    "r = reversed(s)\n",
    "# print(type(r))\n",
    "for ch in r:\n",
    "    print(ch, end='')"
   ]
  },
  {
   "cell_type": "code",
   "execution_count": 6,
   "metadata": {},
   "outputs": [
    {
     "name": "stdout",
     "output_type": "stream",
     "text": [
      "garuna\n"
     ]
    }
   ],
   "source": [
    "s = input('Enter some string to reverse :')\n",
    "r = reversed(s)\n",
    "rr = ''.join(r)\n",
    "print(rr)"
   ]
  },
  {
   "cell_type": "markdown",
   "metadata": {},
   "source": [
    "**Method 3**\n",
    "> using While Loop"
   ]
  },
  {
   "cell_type": "code",
   "execution_count": 9,
   "metadata": {},
   "outputs": [
    {
     "name": "stdout",
     "output_type": "stream",
     "text": [
      "garuna\n"
     ]
    }
   ],
   "source": [
    "s = 'anurag'\n",
    "output = ''\n",
    "i = len(s) - 1\n",
    "while i >= 0 :\n",
    "    output = output + s[i]\n",
    "    i = i-1\n",
    "print(output)    "
   ]
  },
  {
   "cell_type": "markdown",
   "metadata": {},
   "source": [
    "**Question 3**\n",
    "\n",
    "`Write a Python program to reverse the given String word by word ?`"
   ]
  },
  {
   "cell_type": "code",
   "execution_count": 14,
   "metadata": {},
   "outputs": [
    {
     "name": "stdout",
     "output_type": "stream",
     "text": [
      "easy very is python\n"
     ]
    }
   ],
   "source": [
    "s = input('Enter Some String: ')\n",
    "l=s.split()\n",
    "# print(l) \n",
    "l1 = l[::-1]\n",
    "output = ' '.join(l1)\n",
    "# print(l1)\n",
    "print(output)"
   ]
  },
  {
   "cell_type": "markdown",
   "metadata": {},
   "source": [
    "**Question 4** \n",
    "\n",
    "`WAP to REVERSE internal content of each word?`\n"
   ]
  },
  {
   "cell_type": "code",
   "execution_count": 22,
   "metadata": {},
   "outputs": [
    {
     "name": "stdout",
     "output_type": "stream",
     "text": [
      "nohtyP si yrev ysae\n"
     ]
    }
   ],
   "source": [
    "s = 'Python is very easy'\n",
    "l=s.split()\n",
    "l1 = []\n",
    "for w in l:\n",
    "    l1.append(w[::-1])\n",
    "output = ' '.join(l1)    \n",
    "print(output)"
   ]
  },
  {
   "cell_type": "code",
   "execution_count": 24,
   "metadata": {},
   "outputs": [
    {
     "name": "stdout",
     "output_type": "stream",
     "text": [
      "nohtyP si yrev ysae\n"
     ]
    }
   ],
   "source": [
    "s = 'Python is very easy'.split()\n",
    "l1 = []\n",
    "for w in s:\n",
    "    l1.append(w[::-1])\n",
    "output = ' '.join(l1)    \n",
    "print(output)"
   ]
  },
  {
   "cell_type": "markdown",
   "metadata": {},
   "source": [
    "**Question 5** \n",
    "\n",
    "`WAP to REVERSE internal content of every second word present in the given string?`"
   ]
  },
  {
   "cell_type": "code",
   "execution_count": 28,
   "metadata": {},
   "outputs": [
    {
     "name": "stdout",
     "output_type": "stream",
     "text": [
      "one owt three ruof five xis seven\n"
     ]
    }
   ],
   "source": [
    "s = 'one two three four five six seven'\n",
    "l = s.split()\n",
    "l1 = []\n",
    "for w in range(len(l)):\n",
    "    if w%2==0:\n",
    "        l1.append(l[w])\n",
    "    else:\n",
    "        l1.append(l[w][::-1])\n",
    "# print(l1)  \n",
    "output = ' '.join(l1)  \n",
    "print(output)"
   ]
  },
  {
   "cell_type": "code",
   "execution_count": 30,
   "metadata": {},
   "outputs": [
    {
     "name": "stdout",
     "output_type": "stream",
     "text": [
      "one owt three ruof five xis seven\n"
     ]
    }
   ],
   "source": [
    "s = 'one two three four five six seven'\n",
    "l = s.split()\n",
    "l1 = []\n",
    "i = 0\n",
    "while i < len(l):\n",
    "    if i%2==0:\n",
    "        l1.append(l[i])\n",
    "    else:\n",
    "        l1.append(l[i][::-1])\n",
    "    i = i + 1    \n",
    "output = ' '.join(l1)  \n",
    "print(output)"
   ]
  },
  {
   "cell_type": "code",
   "execution_count": null,
   "metadata": {},
   "outputs": [],
   "source": []
  }
 ],
 "metadata": {
  "kernelspec": {
   "display_name": "Python 3 (ipykernel)",
   "language": "python",
   "name": "python3"
  },
  "language_info": {
   "codemirror_mode": {
    "name": "ipython",
    "version": 3
   },
   "file_extension": ".py",
   "mimetype": "text/x-python",
   "name": "python",
   "nbconvert_exporter": "python",
   "pygments_lexer": "ipython3",
   "version": "3.10.6"
  },
  "vscode": {
   "interpreter": {
    "hash": "916dbcbb3f70747c44a77c7bcd40155683ae19c65e1c03b4aa3499c5328201f1"
   }
  }
 },
 "nbformat": 4,
 "nbformat_minor": 2
}
